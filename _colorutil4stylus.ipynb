{
 "cells": [
  {
   "cell_type": "code",
   "execution_count": 1,
   "metadata": {},
   "outputs": [],
   "source": [
    "import numpy as np\n",
    "from matplotlib import pyplot as plt\n",
    "plt.style.use(\"solarized-light\")\n",
    "\n",
    "class RGBColor(object):\n",
    "\n",
    "    def __init__(self, data):\n",
    "        if isinstance(data, str):\n",
    "            assert (data[0] == \"#\") and (len(data) in [ 4, 5, 7, 9 ])\n",
    "            data = data.lower()\n",
    "            if len(data) < 6:\n",
    "                self.__val_r = eval(\"0x\" + data[1]) * 17\n",
    "                self.__val_g = eval(\"0x\" + data[2]) * 17\n",
    "                self.__val_b = eval(\"0x\" + data[3]) * 17\n",
    "            else:\n",
    "                self.__val_r = eval(\"0x\" + data[1 : 3])\n",
    "                self.__val_g = eval(\"0x\" + data[3 : 5])\n",
    "                self.__val_b = eval(\"0x\" + data[5 : 7])\n",
    "        else:\n",
    "            assert (0 <= data[0] <= 255) and (0 <= data[1] <= 255) and (0 <= data[2] <= 255)\n",
    "            self.__val_r, self.__val_g, self.__val_b = data[0], data[1], data[2]\n",
    "\n",
    "    def __repr__(self) -> str:\n",
    "        return \"RGBColor(%s, %s, %s)\" % (self.__val_r, self.__val_g, self.__val_b)\n",
    "\n",
    "    def __getitem__(self, idx: int) -> float:\n",
    "        assert isinstance(idx, int) and (0 <= idx < 3)\n",
    "        return [ self.__val_r, self.__val_g, self.__val_b ][idx]\n",
    "\n",
    "    @property\n",
    "    def hexcode(self) -> str:\n",
    "        return \"#%s%s%s\" % (hex(round(self.__val_r))[2:], hex(round(self.__val_g))[2:], hex(round(self.__val_b))[2:])\n",
    "\n",
    "    @property\n",
    "    def lightenessx2(self) -> float:\n",
    "        return max(self.__val_r, self.__val_g, self.__val_b) + min(self.__val_r, self.__val_g, self.__val_b)\n",
    "    @property\n",
    "    def saturationx2(self) -> float:\n",
    "        return max(self.__val_r, self.__val_g, self.__val_b) - min(self.__val_r, self.__val_g, self.__val_b)\n",
    "    @property\n",
    "    def lighteness(self) -> float:\n",
    "        return self.lightenessx2 / 2\n",
    "    @property\n",
    "    def saturation(self) -> float:\n",
    "        return self.saturationx2 / 2\n"
   ]
  },
  {
   "cell_type": "code",
   "execution_count": 2,
   "metadata": {},
   "outputs": [],
   "source": [
    "def how2lighten(oricolor, newcolor, num_reserve = None, name = None) -> str:\n",
    "    colorori = RGBColor(oricolor)\n",
    "    colornew = RGBColor(newcolor)\n",
    "    if colornew.lightenessx2 > colorori.lightenessx2:\n",
    "        rate_lighteness = (colornew.lightenessx2 - colorori.lightenessx2) / (510 - colorori.lightenessx2)\n",
    "        res = \"+\"\n",
    "        colortemp = RGBColor([\n",
    "            #255 * rate_lighteness + colorori[0] * (1 - rate_lighteness),\n",
    "            (colorori[0] - 255) * (1 - rate_lighteness) + 255,\n",
    "            (colorori[1] - 255) * (1 - rate_lighteness) + 255,\n",
    "            (colorori[2] - 255) * (1 - rate_lighteness) + 255,\n",
    "            ])\n",
    "    else:\n",
    "        rate_lighteness = (colorori.lightenessx2 - colornew.lightenessx2) / colorori.lightenessx2\n",
    "        res = \"-\"\n",
    "        colortemp = RGBColor([\n",
    "            colorori[0] * (1 - rate_lighteness),\n",
    "            colorori[1] * (1 - rate_lighteness),\n",
    "            colorori[2] * (1 - rate_lighteness),\n",
    "            ])\n",
    "\n",
    "    res = \"%s %s %s%%\" % (\n",
    "        name if name else colorori.hexcode,\n",
    "        res,\n",
    "        (round(rate_lighteness * (10 ** (num_reserve + 2))) / (10 ** num_reserve)) if num_reserve else (rate_lighteness * 100)\n",
    "        )\n",
    "    return res\n"
   ]
  },
  {
   "cell_type": "code",
   "execution_count": 3,
   "metadata": {},
   "outputs": [],
   "source": [
    "def how2saturate(oricolor, newcolor, num_reserve = None, name = None) -> str:\n",
    "    colorori = RGBColor(oricolor)\n",
    "    colornew = RGBColor(newcolor)\n",
    "    assert colorori.saturationx2 != 0\n",
    "    rate_saturation = abs(colornew.saturationx2 - colorori.saturationx2) / colorori.saturationx2\n",
    "    res = \"saturate(%s, %s%%)\" % (\n",
    "        name if name else colorori.hexcode,\n",
    "        (round(rate_saturation * (10 ** (num_reserve + 2))) / (10 ** num_reserve)) if num_reserve else (rate_saturation * 100)\n",
    "        )\n",
    "    if colornew.saturationx2 < colorori.saturationx2:\n",
    "        res = \"de\" + res\n",
    "    return res"
   ]
  },
  {
   "cell_type": "code",
   "execution_count": 4,
   "metadata": {},
   "outputs": [],
   "source": [
    "solarized_base = {\n",
    "    \"00\":   RGBColor(\"#002b36\"),\n",
    "    \"01\":   RGBColor(\"#073642\"),\n",
    "    \"02\":   RGBColor(\"#586e75\"),\n",
    "    \"03\":   RGBColor(\"#657b83\"),\n",
    "    \"04\":   RGBColor(\"#839496\"),\n",
    "    \"05\":   RGBColor(\"#93a1a1\"),\n",
    "    \"06\":   RGBColor(\"#eee8d5\"),\n",
    "    \"07\":   RGBColor(\"#fdf6e3\"),\n",
    "    \"yellow\":   RGBColor(\"#b58900\"),\n",
    "    \"orange\":   RGBColor(\"#cb4b16\"),\n",
    "    \"red\":      RGBColor(\"#dc322f\"),\n",
    "    \"magenta\":  RGBColor(\"#d33682\"),\n",
    "    \"violet\":   RGBColor(\"#6c71c4\"),\n",
    "    \"blue\":     RGBColor(\"#268bd2\"),\n",
    "    \"cyan\":     RGBColor(\"#2aa198\"),\n",
    "    \"green\":    RGBColor(\"#859900\"),\n",
    "    }"
   ]
  },
  {
   "cell_type": "code",
   "execution_count": 9,
   "metadata": {},
   "outputs": [
    {
     "name": "stdout",
     "output_type": "stream",
     "text": [
      "$base02 - 0.4878048780487805%\n",
      "$base04 + 6.986899563318777%\n",
      "$base04 + 10.91703056768559%\n",
      "$base05 + 15.841584158415841%\n",
      "$base05 + 49.504950495049506%\n",
      "$base05 + 50.495049504950494%\n",
      "$base06 + 15.254237288135593%\n",
      "$base06 + 25.423728813559322%\n",
      "$base06 + 42.3728813559322%\n",
      "$base06 + 45.76271186440678%\n",
      "$base07 + 30.0%\n"
     ]
    }
   ],
   "source": [
    "for each in [\n",
    "    (\"02\", \"#666666\"),\n",
    "    (\"04\", \"#909399\"),\n",
    "    (\"04\", \"#999999\"),\n",
    "    (\"05\", \"#aaaaaa\"),\n",
    "    (\"05\", \"#cccccc\"),\n",
    "    (\"05\", \"#cdcdcd\"),\n",
    "    (\"06\", \"#e6e6e6\"),\n",
    "    (\"06\", \"#e9e9e9\"),\n",
    "    (\"06\", \"#eeeeee\"),\n",
    "    (\"06\", \"#efefef\"),\n",
    "    (\"07\", \"#f4f4f5\"),\n",
    "    ]:\n",
    "    print(how2lighten(solarized_base[each[0]], each[1], name=\"$base%s\" % each[0]))"
   ]
  },
  {
   "cell_type": "code",
   "execution_count": 11,
   "metadata": {},
   "outputs": [
    {
     "name": "stdout",
     "output_type": "stream",
     "text": [
      "#dc322f + 32.098765432098766%\n",
      "#b5890 + 41.33738601823708%\n",
      "#85990 + 29.411764705882355%\n",
      "saturate(#e7728c, 35.8974358974359%)\n",
      "desaturate(#ffd03e, 2.072538860103627%)\n",
      "desaturate(#1cff3, 39.682539682539684%)\n"
     ]
    }
   ],
   "source": [
    "for each in [\n",
    "    (\"red\", \"#fc625d\"),\n",
    "    (\"yellow\", \"#fdbc40\"),\n",
    "    (\"green\", \"#35cd4b\"),\n",
    "    ]:\n",
    "    print(how2lighten(solarized_base[each[0]], each[1]))\n",
    "for each in [\n",
    "    (\"#e7728c\", \"#fc625d\"),\n",
    "    (\"#ffd03e\", \"#fdbc40\"),\n",
    "    (\"#1cff03\", \"#35cd4b\"),\n",
    "    ]:\n",
    "    print(how2saturate(each[0], each[1]))"
   ]
  },
  {
   "cell_type": "code",
   "execution_count": null,
   "metadata": {},
   "outputs": [
    {
     "name": "stdout",
     "output_type": "stream",
     "text": [
      "saturate(#e04b49, 41.05960264900662%)\n",
      "saturate(#99caed, 42.857142857142854%)\n",
      "saturate(#1e6da5, 35.55555555555556%)\n",
      "desaturate(#d3049, 83.33333333333334%)\n",
      "saturate(#e96a36, 21.22905027932961%)\n"
     ]
    }
   ],
   "source": [
    "for each in [\n",
    "    (\"#e04b49\", \"#ff2a2a\"),\n",
    "    (\"#99caed\", \"#87daff\"),\n",
    "    (\"#1e6da5\", \"#0684bd\"),\n",
    "    (\"#0d3049\", \"#262a30\"),\n",
    "    (\"#e96a36\", \"#fc6423\"),\n",
    "    ]:\n",
    "    print(how2saturate(each[0], each[1]))"
   ]
  },
  {
   "cell_type": "code",
   "execution_count": 8,
   "metadata": {},
   "outputs": [
    {
     "name": "stdout",
     "output_type": "stream",
     "text": [
      "saturate(#4c52b7, 18.69158878504673%)\n",
      "desaturate(#3295da, 19.047619047619047%)\n",
      "desaturate(#e0ff15, 60.68376068376068%)\n",
      "desaturate(#ffd03f, 15.625%)\n",
      "desaturate(#e04a48, 9.210526315789473%)\n"
     ]
    }
   ],
   "source": [
    "for each in [\n",
    "    (\"#4c52b7\", \"#6f42c1\"),\n",
    "    (\"#3295da\", \"#428bca\"),\n",
    "    (\"#e0ff15\", \"#5cb85c\"),\n",
    "    (\"#ffd03f\", \"#f0ad4e\"),\n",
    "    (\"#e04a48\", \"#d9534f\"),\n",
    "    ]:\n",
    "    print(how2saturate(each[0], each[1]))"
   ]
  },
  {
   "cell_type": "code",
   "execution_count": 9,
   "metadata": {},
   "outputs": [
    {
     "name": "stdout",
     "output_type": "stream",
     "text": [
      "saturate(#d3d5ee, 125.92592592592592%)\n",
      "desaturate(#b1d7f1, 6.25%)\n",
      "desaturate(#f3ffa5, 55.55555555555556%)\n",
      "desaturate(#fff2c8, 18.181818181818183%)\n",
      "desaturate(#f5c4c3, 40.0%)\n"
     ]
    }
   ],
   "source": [
    "for each in [\n",
    "    (\"#d3d5ee\", \"#e1c2ff\"),\n",
    "    (\"#b1d7f1\", \"#b3e5ef\"),\n",
    "    (\"#f3ffa5\", \"#d0e6be\"),\n",
    "    (\"#fff2c8\", \"#fae4cd\"),\n",
    "    (\"#f5c4c3\", \"#ebcdd2\"),\n",
    "    ]:\n",
    "    print(how2saturate(each[0], each[1]))"
   ]
  },
  {
   "cell_type": "code",
   "execution_count": 10,
   "metadata": {},
   "outputs": [
    {
     "name": "stdout",
     "output_type": "stream",
     "text": [
      "saturate(#4c52b7, 18.69158878504673%)\n",
      "desaturate(#1d6ca3, 29.850746268656714%)\n",
      "desaturate(#9bb20, 67.41573033707866%)\n",
      "desaturate(#c5950, 59.89847715736041%)\n",
      "desaturate(#c92522, 38.32335329341318%)\n"
     ]
    }
   ],
   "source": [
    "for each in [\n",
    "    (\"#4c52b7\", \"#6f42c1\"),\n",
    "    (\"#1d6ca3\", \"#31708f\"),\n",
    "    (\"#9bb200\", \"#3c763d\"),\n",
    "    (\"#c59500\", \"#8a6d3b\"),\n",
    "    (\"#c92522\", \"#a94442\"),\n",
    "    ]:\n",
    "    print(how2saturate(each[0], each[1]))"
   ]
  },
  {
   "cell_type": "code",
   "execution_count": 21,
   "metadata": {},
   "outputs": [
    {
     "name": "stdout",
     "output_type": "stream",
     "text": [
      "$base07 + 60.0%\n",
      "$base07 + 33.33333333333333%\n",
      "$base06 + 42.3728813559322%\n",
      "$base05 + 70.29702970297029%\n",
      "$base05 + 66.33663366336634%\n",
      "$base05 + 49.504950495049506%\n",
      "$base05 + 32.67326732673268%\n",
      "$base05 + 15.841584158415841%\n",
      "$base05 - 0.6493506493506493%\n",
      "$base04 - 15.302491103202847%\n",
      "$base02 - 0.4878048780487805%\n",
      "$base02 - 17.073170731707318%\n",
      "$base02 - 47.3170731707317%\n",
      "$base02 - 50.24390243902439%\n",
      "$base02 - 60.97560975609756%\n",
      "$base01 - 6.8493150684931505%\n",
      "$base00 - 37.03703703703704%\n"
     ]
    }
   ],
   "source": [
    "for each in [\n",
    "    (\"07\", \"#f9f9f9\"),\n",
    "    (\"07\", \"#f5f5f5\"),\n",
    "    (\"06\", \"#eee\"),\n",
    "    (\"05\", \"#e1e1e1\"),\n",
    "    (\"05\", \"#ddd\"),\n",
    "    (\"05\", \"#ccc\"),\n",
    "    (\"05\", \"#bbb\"),\n",
    "    (\"05\", \"#aaa\"),\n",
    "    (\"05\", \"#999\"),\n",
    "    (\"04\", \"#777\"),\n",
    "    (\"02\", \"#666\"),\n",
    "    (\"02\", \"#555\"),\n",
    "    (\"02\", \"#363636\"),\n",
    "    (\"02\", \"#333\"),\n",
    "    (\"02\", \"#282828\"),\n",
    "    (\"01\", \"#222\"),\n",
    "    (\"00\", \"#111\"),\n",
    "    ]:\n",
    "    print(how2lighten(solarized_base[each[0]], each[1], name=\"$base%s\" % each[0]))"
   ]
  },
  {
   "cell_type": "code",
   "execution_count": 5,
   "metadata": {},
   "outputs": [
    {
     "name": "stdout",
     "output_type": "stream",
     "text": [
      "$base-red + 12.345679012345679%\n",
      "$base-blue + 54.19847328244275%\n",
      "$base-blue - 21.370967741935484%\n",
      "$base-blue - 65.32258064516128%\n",
      "$base-orange + 21.75438596491228%\n"
     ]
    }
   ],
   "source": [
    "for each in [\n",
    "    (\"red\", \"#ff2a2a\"),\n",
    "    (\"blue\", \"#87daff\"),\n",
    "    (\"blue\", \"#0684bd\"),\n",
    "    (\"blue\", \"#262a30\"),\n",
    "    (\"orange\", \"#fc6423\"),\n",
    "    ]:\n",
    "    print(how2lighten(solarized_base[each[0]], each[1], name=\"$base-%s\" % each[0]))"
   ]
  },
  {
   "cell_type": "code",
   "execution_count": 24,
   "metadata": {},
   "outputs": [
    {
     "name": "stdout",
     "output_type": "stream",
     "text": [
      "$base-violet - 14.802631578947366%\n",
      "$base-blue + 7.633587786259542%\n",
      "$base-green + 34.45378151260504%\n",
      "$base-yellow + 41.641337386018236%\n",
      "$base-red + 11.934156378600823%\n",
      "$base-violet + 70.3883495145631%\n",
      "$base-blue + 64.8854961832061%\n",
      "$base-green + 74.78991596638656%\n",
      "$base-yellow + 83.28267477203647%\n",
      "$base-red + 71.19341563786008%\n",
      "$base-violet - 14.802631578947366%\n",
      "$base-blue - 22.58064516129032%\n",
      "$base-green + 7.002801120448179%\n",
      "$base-yellow + 4.86322188449848%\n",
      "$base-red - 11.985018726591761%\n"
     ]
    }
   ],
   "source": [
    "for each in [\n",
    "    (\"violet\", \"#6f42c1\"),\n",
    "    (\"blue\", \"#428bca\"),\n",
    "    (\"green\", \"#5cb85c\"),\n",
    "    (\"yellow\", \"#f0ad4e\"),\n",
    "    (\"red\", \"#d9534f\"),\n",
    "\n",
    "    (\"violet\", \"#e1c2ff\"),\n",
    "    (\"blue\", \"#b3e5ef\"),\n",
    "    (\"green\", \"#d0e6be\"),\n",
    "    (\"yellow\", \"#fae4cd\"),\n",
    "    (\"red\", \"#ebcdd2\"),\n",
    "\n",
    "    (\"violet\", \"#6f42c1\"),\n",
    "    (\"blue\", \"#31708f\"),\n",
    "    (\"green\", \"#3c763d\"),\n",
    "    (\"yellow\", \"#8a6d3b\"),\n",
    "    (\"red\", \"#a94442\"),\n",
    "    ]:\n",
    "    print(how2lighten(solarized_base[each[0]], each[1], name=\"$base-%s\" % each[0]))"
   ]
  },
  {
   "cell_type": "code",
   "execution_count": null,
   "metadata": {},
   "outputs": [],
   "source": []
  }
 ],
 "metadata": {
  "interpreter": {
   "hash": "a8f61be024eba58adef938c9aa1e29e02cb3dece83a5348b1a2dafd16a070453"
  },
  "kernelspec": {
   "display_name": "Python 3.6.5 ('base')",
   "language": "python",
   "name": "python3"
  },
  "language_info": {
   "codemirror_mode": {
    "name": "ipython",
    "version": 3
   },
   "file_extension": ".py",
   "mimetype": "text/x-python",
   "name": "python",
   "nbconvert_exporter": "python",
   "pygments_lexer": "ipython3",
   "version": "3.6.5"
  },
  "orig_nbformat": 4
 },
 "nbformat": 4,
 "nbformat_minor": 2
}
